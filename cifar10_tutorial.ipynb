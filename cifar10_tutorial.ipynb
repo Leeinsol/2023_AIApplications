{
 "cells": [
  {
   "cell_type": "code",
   "execution_count": 4,
   "id": "202a4c22",
   "metadata": {},
   "outputs": [
    {
     "name": "stderr",
     "output_type": "stream",
     "text": [
      "UsageError: Line magic function `%matplaolib` not found.\n"
     ]
    }
   ],
   "source": [
    "%matplaolib inline # 매직코드 / 도표와 같은 그림, 소리, 애니메이션과 같은 결과물을 브라우저 내부(inline)에 표시함\n",
    "\n",
    "\n",
    "# torchvision 을 사용하여 CIFAR10의 학습용 / 시험용 데이터셋을 불러오고, 정규화(nomarlizing)합니다.\n",
    "import torch # 텐서(다차원 배열)을 생성 및 조작, 신경망을 구현\n",
    "import torchvision # 컴퓨터 비전 애플리케이션에 특정한 데이터 세트, 변환 및 모델 제공\n",
    "import torchvision.tranforms as transforms # torchvision.transforms: 신경망을 훈련하기 전 데이터를 전처리 과정에 사용되는 이미지 변환 기능(크기 조정, 자르기, 뒤집기, 정규화 등) 포함\n",
    "\n",
    "transform =transforms.Compose(\n",
    "    [transforms.ToTensor().\n",
    "    transforms.Normalize((0.5, 0.5, 0.,5). (0.5, 0.5, 0.5))])\n",
    "# transforms.ToTensor(): 데이터 세트의 영상을 PILimage에서 PyTorch 텐서로 변환\n",
    "# transforms.Normalize(): 세 개의 RGB 채널 평균과 표준 편차의 픽셀 값을 정규화\n",
    "\n",
    "batch_size = 4 # 교육, 테스트 중 한 번에 처리할 이미지 수\n",
    "\n",
    "# 트레인 세트 변수 생성\n",
    "trainset = torchvision.datasets.CIFA10(root='./data',train=True, # 데이터 세트 다운로드 -> 데이터 세트의 각 이미지에 변환 파이프라인 적용\n",
    "                                      download=True, transform=transform)\n",
    "\n",
    "\n",
    "# DataLoader(): trainLoader 변수 생성: 데이터 배치를 생서와는 반복 가능한 개체\n",
    "trainloader=torch.utils.data.DataLoader(trainset, batch_size=batch_size,\n",
    "                                       shuffle=true, num_workers=2)\n",
    "\n",
    "# 데스트 세트 변수 생성\n",
    "testset= torchvision.datasets.CIFA10(root='/data', train=False, # 데이터 세트의 각 이미지에 변환 파이프라인을 적용\n",
    "                                    download=True, transform=tranform)\n",
    "\n",
    "# 테스트 로더 변수 생성: 데이터 배치를 생성하는 반복 가능한 개체 생성\n",
    "testloader=torch.utils.data.DataLoader(testset, batch_size=batch_size,\n",
    "                                      shuffle=False, num_workers=2)\n",
    "\n",
    "# 클래스 이름을 튜플로 생성: 예측 인덱스를 해당 클래스에 매핑\n",
    "classes=('plane', 'car', 'bird', 'cat',\n",
    "        'deer','dog','frog','horse','ship','truck')\n",
    "\n",
    "# 데이터 세트의 시각화를 위한 라이브러리 임포트\n",
    "import matplotlib.pyplot as plt\n",
    "import numpy as np\n",
    "\n",
    "# 이미지를 보여주는 함수\n",
    "def imshow(img) :\n",
    "    img =img/2+0.5\n",
    "    npimg =img.numpy()\n",
    "    plt.imshow(np.transpose(npimg,(1,2,0)))\n",
    "    plt.show()\n",
    "# [0,1] 범위로 픽셀 값을 스케일링하여 정규화를 해제\n",
    "# \n",
    "    \n",
    "# 랜덤 트레이닝 이미지를 가져오기\n",
    "dataiter=iter(trainloader)\n",
    "images, labels=next(dataiter)\n",
    "\n",
    "# 이미지를 보여줌\n",
    "imshow(torchvision.utils.make_grid(images))\n",
    "\n",
    "# 라벨 프린트\n",
    "print(' ',Join(f'{classes[labels[j]]:5s}'for j in range(batch_size)))\n"
   ]
  }
 ],
 "metadata": {
  "kernelspec": {
   "display_name": "Python 3 (ipykernel)",
   "language": "python",
   "name": "python3"
  },
  "language_info": {
   "codemirror_mode": {
    "name": "ipython",
    "version": 3
   },
   "file_extension": ".py",
   "mimetype": "text/x-python",
   "name": "python",
   "nbconvert_exporter": "python",
   "pygments_lexer": "ipython3",
   "version": "3.9.13"
  }
 },
 "nbformat": 4,
 "nbformat_minor": 5
}
